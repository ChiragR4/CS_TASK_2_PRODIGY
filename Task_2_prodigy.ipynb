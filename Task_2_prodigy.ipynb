{
  "nbformat": 4,
  "nbformat_minor": 0,
  "metadata": {
    "colab": {
      "provenance": []
    },
    "kernelspec": {
      "name": "python3",
      "display_name": "Python 3"
    },
    "language_info": {
      "name": "python"
    }
  },
  "cells": [
    {
      "cell_type": "code",
      "execution_count": null,
      "metadata": {
        "colab": {
          "base_uri": "https://localhost:8080/"
        },
        "id": "jYVOexCy4dJB",
        "outputId": "91246c85-3224-4ee7-c242-83ff18a134bb"
      },
      "outputs": [
        {
          "output_type": "stream",
          "name": "stdout",
          "text": [
            "Image encrypted sucessfully!\n",
            "Image Decrypted Sucessfully!\n"
          ]
        }
      ],
      "source": [
        "from PIL import Image\n",
        "\n",
        "def encrypt_image(image_path,key):\n",
        "    img = Image.open(image_path)\n",
        "    pixels = img.load()\n",
        "\n",
        "    width,height = img.size\n",
        "\n",
        "    for i in range(width):\n",
        "      for j in range(height):\n",
        "        r, g, b = pixels[i,j]\n",
        "\n",
        "        #swap red and blue channels\n",
        "        encrypted_pixel = (b, g, r)\n",
        "        pixels[i, j] = encrypted_pixel\n",
        "\n",
        "    img.save(\"encrypt.jpg\")\n",
        "    print(\"Image encrypted sucessfully!\")\n",
        "\n",
        "def decrypted_image(image_path,key):\n",
        "    img = Image.open(\"encrypt.jpg\")\n",
        "    pixels = img.load()\n",
        "\n",
        "    width, height = img.size\n",
        "\n",
        "    for i in range(width):\n",
        "      for j in range(height):\n",
        "        r, g, b = pixels[i, j]\n",
        "\n",
        "        #swap red and blue channel back\n",
        "        decrypted_pixel = (b, g, r)\n",
        "\n",
        "        pixels[i, j] = decrypted_pixel\n",
        "\n",
        "    img.save(\"decrypt.jpg\")\n",
        "    print(\"Image Decrypted Sucessfully!\")\n",
        "\n",
        "\n",
        "image_path = \"image.jpg\"\n",
        "key = None\n",
        "encrypt_image(image_path, key)\n",
        "encrypt_image_path = \"encrypt_image.jpg\"\n",
        "decrypted_image(encrypt_image, key)\n",
        "decrypt_image_path = \"decrypt_image.jpg\""
      ]
    }
  ]
}